{
 "cells": [
  {
   "cell_type": "markdown",
   "metadata": {},
   "source": [
    "# Codecademy [NBA Trends Project](https://www.codecademy.com/projects/practice/nba-trends)\n",
    "\n",
    "*Analyze National Basketball Association (NBA) data to look at associations between teams, win-rates, playoff appearances, and more.*"
   ]
  },
  {
   "cell_type": "markdown",
   "metadata": {},
   "source": [
    "In this project, you'll analyze data from the NBA (National Basketball Association) and explore possible associations. \n",
    "\n",
    "This data was originally sourced from 538's Analysis of the [Complete History Of The NBA](http://fivethirtyeight.com/interactives/the-complete-history-of-every-nba-team-by-elo) and contains the original, unmodified data from [Basketball Reference](http://www.basketball-reference.com/) as well as several additional variables 538 added to perform their own analysis. \n",
    "\n",
    "You can read more about the data and how it's being used by 538 [here](https://github.com/fivethirtyeight/data/tree/master/nba-elo). For this project we've limited the data to just 5 teams and 10 columns (plus one constructed column, `point_diff`, the difference between `pts` and `opp_pts`).\n",
    "\n",
    "You will create several charts and tables in this project, so you'll need to use `plt.clf()` between plots in your code so that the plots don't layer on top of one another.\n"
   ]
  },
  {
   "cell_type": "code",
   "execution_count": 9,
   "metadata": {},
   "outputs": [],
   "source": [
    "import pandas as pd\n",
    "import numpy as np\n",
    "from scipy.stats import pearsonr, chi2_contingency\n",
    "import matplotlib.pyplot as plt\n",
    "import seaborn as sns"
   ]
  },
  {
   "cell_type": "code",
   "execution_count": 10,
   "metadata": {},
   "outputs": [],
   "source": [
    "#to make the output look nicer\n",
    "np.set_printoptions(suppress=True, precision = 2)"
   ]
  },
  {
   "cell_type": "code",
   "execution_count": 11,
   "metadata": {},
   "outputs": [
    {
     "data": {
      "text/html": [
       "<div>\n",
       "<style scoped>\n",
       "    .dataframe tbody tr th:only-of-type {\n",
       "        vertical-align: middle;\n",
       "    }\n",
       "\n",
       "    .dataframe tbody tr th {\n",
       "        vertical-align: top;\n",
       "    }\n",
       "\n",
       "    .dataframe thead th {\n",
       "        text-align: right;\n",
       "    }\n",
       "</style>\n",
       "<table border=\"1\" class=\"dataframe\">\n",
       "  <thead>\n",
       "    <tr style=\"text-align: right;\">\n",
       "      <th></th>\n",
       "      <th>game_id</th>\n",
       "      <th>year_id</th>\n",
       "      <th>fran_id</th>\n",
       "      <th>opp_fran</th>\n",
       "      <th>game_location</th>\n",
       "      <th>is_playoffs</th>\n",
       "      <th>pts</th>\n",
       "      <th>opp_pts</th>\n",
       "      <th>game_result</th>\n",
       "      <th>forecast</th>\n",
       "      <th>point_diff</th>\n",
       "    </tr>\n",
       "  </thead>\n",
       "  <tbody>\n",
       "    <tr>\n",
       "      <th>0</th>\n",
       "      <td>194611010TRH</td>\n",
       "      <td>1947</td>\n",
       "      <td>Knicks</td>\n",
       "      <td>Huskies</td>\n",
       "      <td>A</td>\n",
       "      <td>0</td>\n",
       "      <td>68</td>\n",
       "      <td>66</td>\n",
       "      <td>W</td>\n",
       "      <td>0.359935</td>\n",
       "      <td>2</td>\n",
       "    </tr>\n",
       "    <tr>\n",
       "      <th>1</th>\n",
       "      <td>194611020CHS</td>\n",
       "      <td>1947</td>\n",
       "      <td>Knicks</td>\n",
       "      <td>Stags</td>\n",
       "      <td>A</td>\n",
       "      <td>0</td>\n",
       "      <td>47</td>\n",
       "      <td>63</td>\n",
       "      <td>L</td>\n",
       "      <td>0.368899</td>\n",
       "      <td>-16</td>\n",
       "    </tr>\n",
       "    <tr>\n",
       "      <th>2</th>\n",
       "      <td>194611020PRO</td>\n",
       "      <td>1947</td>\n",
       "      <td>Celtics</td>\n",
       "      <td>Steamrollers</td>\n",
       "      <td>A</td>\n",
       "      <td>0</td>\n",
       "      <td>53</td>\n",
       "      <td>59</td>\n",
       "      <td>L</td>\n",
       "      <td>0.359935</td>\n",
       "      <td>-6</td>\n",
       "    </tr>\n",
       "    <tr>\n",
       "      <th>3</th>\n",
       "      <td>194611050BOS</td>\n",
       "      <td>1947</td>\n",
       "      <td>Celtics</td>\n",
       "      <td>Stags</td>\n",
       "      <td>H</td>\n",
       "      <td>0</td>\n",
       "      <td>55</td>\n",
       "      <td>57</td>\n",
       "      <td>L</td>\n",
       "      <td>0.620204</td>\n",
       "      <td>-2</td>\n",
       "    </tr>\n",
       "    <tr>\n",
       "      <th>4</th>\n",
       "      <td>194611070STB</td>\n",
       "      <td>1947</td>\n",
       "      <td>Knicks</td>\n",
       "      <td>Bombers</td>\n",
       "      <td>A</td>\n",
       "      <td>0</td>\n",
       "      <td>68</td>\n",
       "      <td>63</td>\n",
       "      <td>W</td>\n",
       "      <td>0.339290</td>\n",
       "      <td>5</td>\n",
       "    </tr>\n",
       "  </tbody>\n",
       "</table>\n",
       "</div>"
      ],
      "text/plain": [
       "        game_id  year_id  fran_id      opp_fran game_location  is_playoffs  \\\n",
       "0  194611010TRH     1947   Knicks       Huskies             A            0   \n",
       "1  194611020CHS     1947   Knicks         Stags             A            0   \n",
       "2  194611020PRO     1947  Celtics  Steamrollers             A            0   \n",
       "3  194611050BOS     1947  Celtics         Stags             H            0   \n",
       "4  194611070STB     1947   Knicks       Bombers             A            0   \n",
       "\n",
       "   pts  opp_pts game_result  forecast  point_diff  \n",
       "0   68       66           W  0.359935           2  \n",
       "1   47       63           L  0.368899         -16  \n",
       "2   53       59           L  0.359935          -6  \n",
       "3   55       57           L  0.620204          -2  \n",
       "4   68       63           W  0.339290           5  "
      ]
     },
     "execution_count": 11,
     "metadata": {},
     "output_type": "execute_result"
    }
   ],
   "source": [
    "nba = pd.read_csv('nba_games.csv')\n",
    "nba.head()"
   ]
  },
  {
   "cell_type": "code",
   "execution_count": 12,
   "metadata": {},
   "outputs": [],
   "source": [
    "# Subset Data to 2010 Season, 2014 Season\n",
    "nba_2010 = nba[nba.year_id == 2010]\n",
    "nba_2014 = nba[nba.year_id == 2014]"
   ]
  },
  {
   "cell_type": "markdown",
   "metadata": {},
   "source": [
    "### Task 1\n",
    "The data has been subset for you into two smaller datasets: games from 2010 (named nba_2010) and games from 2014 (named nba_2014). To start, let’s focus on the 2010 data.\n",
    "\n",
    "Suppose you want to compare the knicks to the nets with respect to points earned per game. Using the pts column from the nba_2010 DataFrame, create two series named knicks_pts (fran_id = \"Knicks\") and nets_pts(fran_id = \"Nets\") that represent the points each team has scored in their games.\n"
   ]
  },
  {
   "cell_type": "code",
   "execution_count": 13,
   "metadata": {},
   "outputs": [],
   "source": [
    "knicks_pts_2010 = nba_2010[nba_2010.fran_id == 'Knicks']['pts']\n",
    "\n",
    "nets_pts_2010 = nba_2010[nba_2010.fran_id == 'Nets']['pts']"
   ]
  },
  {
   "cell_type": "markdown",
   "metadata": {},
   "source": [
    "### Task 2\n",
    "\n",
    "Calculate the difference between the two teams’ average points scored and save the result as diff_means_2010. Based on this value, do you think fran_id and pts are associated? Why or why not?\n"
   ]
  },
  {
   "cell_type": "code",
   "execution_count": 14,
   "metadata": {},
   "outputs": [
    {
     "name": "stdout",
     "output_type": "stream",
     "text": [
      "9.731707317073173\n"
     ]
    }
   ],
   "source": [
    "diff_means_2010 = knicks_pts_2010.mean() - nets_pts_2010.mean()\n",
    "print(diff_means_2010)\n",
    "\n",
    "## probably they are not associated since the mean value difference is not that huge. They might be somehow associated "
   ]
  },
  {
   "cell_type": "markdown",
   "metadata": {},
   "source": [
    "### Task 3\n",
    "Rather than comparing means, it’s useful look at the full distribution of values to understand whether a difference in means is meaningful. Create a set of overlapping histograms that can be used to compare the points scored for the Knicks compared to the Nets. Use the series you created in the previous step (1) and the code below to create the plot. Do the distributions appear to be the same?\n"
   ]
  },
  {
   "cell_type": "code",
   "execution_count": 38,
   "metadata": {},
   "outputs": [
    {
     "data": {
      "image/png": "[encoded data removed]",
      "text/plain": [
       "<Figure size 640x480 with 1 Axes>"
      ]
     },
     "metadata": {},
     "output_type": "display_data"
    },
    {
     "data": {
      "text/plain": [
       "<Figure size 640x480 with 0 Axes>"
      ]
     },
     "metadata": {},
     "output_type": "display_data"
    }
   ],
   "source": [
    "plt.hist(knicks_pts_2010, label='knicks 2010', alpha = .8, density = True)\n",
    "plt.hist(nets_pts_2010, label='nets 2010', alpha = .8, density = True)\n",
    "plt.xlabel('score_game')\n",
    "plt.legend()\n",
    "plt.show()\n",
    "plt.clf()\n",
    "\n"
   ]
  },
  {
   "cell_type": "markdown",
   "metadata": {},
   "source": [
    "### Task 4\n",
    "Now, let’s compare the 2010 games to 2014. Replicate the steps from Tasks 2 and 3 using `nba_2014`. First, calculate the mean difference between the two teams points scored. Save and print the value as `diff_means_2014`. Did the difference in points get larger or smaller in 2014? Then, plot the overlapping histograms. Does the mean difference you calculated make sense?\n"
   ]
  },
  {
   "cell_type": "code",
   "execution_count": 33,
   "metadata": {},
   "outputs": [
    {
     "name": "stdout",
     "output_type": "stream",
     "text": [
      "0.44706798131809933\n"
     ]
    },
    {
     "data": {
      "image/png": "[encoded data removed]",
      "text/plain": [
       "<Figure size 640x480 with 1 Axes>"
      ]
     },
     "metadata": {},
     "output_type": "display_data"
    },
    {
     "data": {
      "text/plain": [
       "<Figure size 640x480 with 0 Axes>"
      ]
     },
     "metadata": {},
     "output_type": "display_data"
    }
   ],
   "source": [
    "knicks_pts_2014 = nba_2014[nba_2014.fran_id == 'Knicks']['pts']\n",
    "\n",
    "nets_pts_2014 = nba_2014[nba_2014.fran_id == 'Nets']['pts']\n",
    "\n",
    "diff_means_2014 = knicks_pts_2014.mean() - nets_pts_2014.mean()\n",
    "print(diff_means_2014)\n",
    "plt.hist(knicks_pts_2014, label='knicks 2014', alpha = .8, density = True)\n",
    "plt.hist(nets_pts_2014, label='nets 2014', alpha = .8, density = True)\n",
    "plt.xlabel('score_game')\n",
    "plt.legend()\n",
    "plt.show()\n",
    "plt.clf()\n"
   ]
  },
  {
   "cell_type": "markdown",
   "metadata": {},
   "source": [
    "### Task 5\n",
    "For the remainder of this project, we’ll focus on data from 2010. Let’s now include all teams in the dataset and investigate the relationship between franchise and points scored per game.\n",
    "\n",
    "Using nba_2010, generate side-by-side boxplots with points scored (pts) on the y-axis and team (fran_id) on the x-axis. Is there any overlap between the boxes? Does this chart suggest that fran_id and pts are associated? Which pairs of teams, if any, earn different average scores per game?\n"
   ]
  },
  {
   "cell_type": "code",
   "execution_count": 34,
   "metadata": {},
   "outputs": [
    {
     "data": {
      "image/png": "[encoded data removed]",
      "text/plain": [
       "<Figure size 640x480 with 1 Axes>"
      ]
     },
     "metadata": {},
     "output_type": "display_data"
    }
   ],
   "source": [
    "sns.boxplot(data = nba_2010, x = 'fran_id', y = 'pts')\n",
    "plt.show()\n",
    "#overlap between knicks and thunders but also with celtics and spurs, this chart suggest that they are not highly associated, only nets earn less points per average"
   ]
  },
  {
   "cell_type": "markdown",
   "metadata": {},
   "source": [
    "### Task 6\n",
    "We'd like to know if teams tend to win more games at home compared to away.\n",
    "\n",
    "The variable, `game_result`, indicates whether a team won a particular game ('W' stands for “win” and 'L' stands for “loss”). The variable, `game_location`, indicates whether a team was playing at home or away ('H' stands for “home” and 'A' stands for “away”). \n",
    "\n",
    "Data scientists will often calculate a contingency table of frequencies to help them determine if categorical variables are associated. Calculate a table of frequencies that shows the counts of game_result and game_location.\n",
    "\n",
    "Save your result as `location_result_freq` and print your result. Based on this table, do you think the variables are associated?`\n"
   ]
  },
  {
   "cell_type": "code",
   "execution_count": 23,
   "metadata": {},
   "outputs": [
    {
     "name": "stdout",
     "output_type": "stream",
     "text": [
      "game_location    A    H\n",
      "game_result            \n",
      "L              133  105\n",
      "W               92  120\n"
     ]
    }
   ],
   "source": [
    "location_result_freq = pd.crosstab(nba_2010.game_result, nba_2010.game_location)\n",
    "print(location_result_freq)\n"
   ]
  },
  {
   "cell_type": "markdown",
   "metadata": {},
   "source": [
    "### Task 7\n",
    "\n",
    "Convert this table of frequencies to a table of proportions and save the result as `location_result_proportions`."
   ]
  },
  {
   "cell_type": "code",
   "execution_count": 25,
   "metadata": {},
   "outputs": [
    {
     "name": "stdout",
     "output_type": "stream",
     "text": [
      "game_location         A         H\n",
      "game_result                      \n",
      "L              0.295556  0.233333\n",
      "W              0.204444  0.266667\n"
     ]
    }
   ],
   "source": [
    "location_result_proportions = location_result_freq / len(nba_2010)\n",
    "print(location_result_proportions)"
   ]
  },
  {
   "cell_type": "markdown",
   "metadata": {},
   "source": [
    "### Task 8\n",
    "Using the contingency table created above (Task 6), calculate the expected contingency table (if there were no association) and the Chi-Square statistic.\n",
    "\n",
    "Does the actual contingency table look similar to the expected table — or different? Based on this output, do you think there is an association between these variables?\n"
   ]
  },
  {
   "cell_type": "code",
   "execution_count": 26,
   "metadata": {},
   "outputs": [
    {
     "name": "stdout",
     "output_type": "stream",
     "text": [
      "[[119. 119.]\n",
      " [106. 106.]] 6.501704455367053\n"
     ]
    }
   ],
   "source": [
    "chi2, pval, dof, expected = chi2_contingency(location_result_freq)\n",
    "print(expected, chi2)"
   ]
  },
  {
   "cell_type": "markdown",
   "metadata": {},
   "source": [
    "*For a 2x2 table, Chi-squared greater than about 4 indicates an association. We've exceeded that!*"
   ]
  },
  {
   "cell_type": "markdown",
   "metadata": {},
   "source": [
    "### Task 9\n",
    "\n",
    "For each game, 538 has calculated the probability that each team will win the game. We want to know if teams with a higher probability of winning (according to 538) also tend to win games by more points. \n",
    "\n",
    "In the data, 538's prediction is saved as `forecast`. The `point_diff` column gives the margin of victory/defeat for each team (positive values mean that the team won; negative values mean that they lost). \n",
    "\n",
    "Using `nba_2010`, calculate the covariance between `forecast` (538's projected win probability) and `point_diff` (the margin of victory/defeat) in the dataset. Save and print your result. Looking at the matrix, what is the covariance between these two variables?\n"
   ]
  },
  {
   "cell_type": "code",
   "execution_count": 27,
   "metadata": {},
   "outputs": [
    {
     "name": "stdout",
     "output_type": "stream",
     "text": [
      "[[186.56   1.37]\n",
      " [  1.37   0.05]]\n"
     ]
    }
   ],
   "source": [
    "cov_2010 = np.cov(nba_2010.point_diff, nba_2010.forecast)\n",
    "print(cov_2010)"
   ]
  },
  {
   "cell_type": "markdown",
   "metadata": {},
   "source": [
    "### Task 10\n",
    "\n",
    "Because 538’s forecast variable is reported as a probability (not a binary), we can calculate the strength of the correlation.\n",
    "\n",
    "Using nba_2010, calculate the correlation between `forecast` and `point_diff`. Call this `point_diff_forecast_corr`. Save and print your result. Does this value suggest an association between the two variables?\n"
   ]
  },
  {
   "cell_type": "code",
   "execution_count": 28,
   "metadata": {},
   "outputs": [
    {
     "name": "stdout",
     "output_type": "stream",
     "text": [
      "0.4402088708468082\n"
     ]
    }
   ],
   "source": [
    "point_diff_forecast_corr, p = pearsonr(nba_2010.forecast, nba_2010.point_diff)\n",
    "print(point_diff_forecast_corr)"
   ]
  },
  {
   "cell_type": "markdown",
   "metadata": {},
   "source": [
    "### Task 11\n",
    "\n",
    "Generate a scatter plot of `forecast` (on the x-axis) and `point_diff` (on the y-axis). Does the correlation value make sense?"
   ]
  },
  {
   "cell_type": "code",
   "execution_count": 30,
   "metadata": {},
   "outputs": [
    {
     "data": {
      "image/png": "[encoded data removed]",
      "text/plain": [
       "<Figure size 640x480 with 1 Axes>"
      ]
     },
     "metadata": {},
     "output_type": "display_data"
    }
   ],
   "source": [
    "plt.clf()\n",
    "plt.scatter(x=nba_2010.forecast, y=nba_2010.point_diff)\n",
    "plt.show()"
   ]
  },
  {
   "cell_type": "code",
   "execution_count": null,
   "metadata": {},
   "outputs": [],
   "source": []
  }
 ],
 "metadata": {
  "kernelspec": {
   "display_name": "Python 3",
   "language": "python",
   "name": "python3"
  },
  "language_info": {
   "codemirror_mode": {
    "name": "ipython",
    "version": 3
   },
   "file_extension": ".py",
   "mimetype": "text/x-python",
   "name": "python",
   "nbconvert_exporter": "python",
   "pygments_lexer": "ipython3",
   "version": "3.11.0"
  }
 },
 "nbformat": 4,
 "nbformat_minor": 4
}
